{
 "cells": [
  {
   "cell_type": "code",
   "execution_count": null,
   "id": "74596184-e8d5-4f3c-881d-21bab43c8bc4",
   "metadata": {},
   "outputs": [],
   "source": [
    "from orm.model import create_data_record\n",
    "create_data_record()"
   ]
  },
  {
   "cell_type": "code",
   "execution_count": null,
   "id": "87c711dc-eb10-40d0-a5c4-6c73b456300c",
   "metadata": {},
   "outputs": [],
   "source": []
  },
  {
   "cell_type": "code",
   "execution_count": null,
   "id": "d0f896aa-6bd8-4b8f-8b20-88a624ae702b",
   "metadata": {},
   "outputs": [],
   "source": []
  }
 ],
 "metadata": {
  "kernelspec": {
   "display_name": "Python 3 (ipykernel)",
   "language": "python",
   "name": "python3"
  },
  "language_info": {
   "codemirror_mode": {
    "name": "ipython",
    "version": 3
   },
   "file_extension": ".py",
   "mimetype": "text/x-python",
   "name": "python",
   "nbconvert_exporter": "python",
   "pygments_lexer": "ipython3",
   "version": "3.12.3"
  }
 },
 "nbformat": 4,
 "nbformat_minor": 5
}
