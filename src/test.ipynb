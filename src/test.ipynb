{
 "cells": [
  {
   "cell_type": "code",
   "execution_count": 10,
   "id": "85e67046-c312-49c0-bf50-eb39af7f8109",
   "metadata": {},
   "outputs": [],
   "source": [
    "from orm.model import Data\n",
    "from datetime import datetime"
   ]
  },
  {
   "cell_type": "code",
   "execution_count": null,
   "id": "a789a99a-a870-406a-babb-2ddf5791bc1e",
   "metadata": {
    "scrolled": true
   },
   "outputs": [],
   "source": [
    "import numpy as np\n",
    "import random\n",
    "import time\n",
    "\n",
    "tempreture_mean = 25\n",
    "temperature_std_dev = 3\n",
    "\n",
    "humid_mean = 50\n",
    "humid_std_dev = 5\n",
    "\n",
    "for _ in range(10):\n",
    "    time.sleep(1)\n",
    "    data = Data()\n",
    "    data.create_data_record(\n",
    "        date = datetime.now(),\n",
    "        temperature = np.random.normal(loc=tempreture_mean, scale=temperature_std_dev),\n",
    "        humid = np.random.normal(loc=humid_mean, scale=humid_std_dev),\n",
    "        data1 = random.uniform(0, 500),\n",
    "        data2 = random.uniform(0, 500),\n",
    "        data3 = True\n",
    "    )\n",
    "    session.add(data)\n",
    "    \n",
    "session.flush()"
   ]
  },
  {
   "cell_type": "code",
   "execution_count": null,
   "id": "57062ca8-8d51-40ca-8054-2a040ba6c238",
   "metadata": {
    "scrolled": true
   },
   "outputs": [],
   "source": [
    "session.commit()\n",
    "# session.rollback()"
   ]
  }
 ],
 "metadata": {
  "kernelspec": {
   "display_name": "Python 3 (ipykernel)",
   "language": "python",
   "name": "python3"
  },
  "language_info": {
   "codemirror_mode": {
    "name": "ipython",
    "version": 3
   },
   "file_extension": ".py",
   "mimetype": "text/x-python",
   "name": "python",
   "nbconvert_exporter": "python",
   "pygments_lexer": "ipython3",
   "version": "3.12.3"
  }
 },
 "nbformat": 4,
 "nbformat_minor": 5
}
